{
 "cells": [
  {
   "cell_type": "markdown",
   "metadata": {},
   "source": [
    "# Code to retreive Short Register of Norwegian Stocks and Graph result"
   ]
  },
  {
   "cell_type": "code",
   "execution_count": 1,
   "metadata": {},
   "outputs": [],
   "source": [
    "import pandas as pd\n",
    "import numpy as np\n",
    "from datetime import datetime, timedelta\n",
    "import matplotlib\n",
    "import matplotlib.pyplot as plt\n",
    "matplotlib.style.use('ggplot')\n",
    "%matplotlib notebook\n"
   ]
  },
  {
   "cell_type": "code",
   "execution_count": 2,
   "metadata": {
    "scrolled": true
   },
   "outputs": [
    {
     "data": {
      "text/html": [
       "<div>\n",
       "<style scoped>\n",
       "    .dataframe tbody tr th:only-of-type {\n",
       "        vertical-align: middle;\n",
       "    }\n",
       "\n",
       "    .dataframe tbody tr th {\n",
       "        vertical-align: top;\n",
       "    }\n",
       "\n",
       "    .dataframe thead th {\n",
       "        text-align: right;\n",
       "    }\n",
       "</style>\n",
       "<table border=\"1\" class=\"dataframe\">\n",
       "  <thead>\n",
       "    <tr style=\"text-align: right;\">\n",
       "      <th></th>\n",
       "      <th>ISIN</th>\n",
       "      <th>LastChange</th>\n",
       "      <th>Name</th>\n",
       "      <th>NumPositions</th>\n",
       "      <th>Positions</th>\n",
       "      <th>ShortPercent</th>\n",
       "      <th>ShortedSum</th>\n",
       "    </tr>\n",
       "  </thead>\n",
       "  <tbody>\n",
       "    <tr>\n",
       "      <th>0</th>\n",
       "      <td>BMG067231032</td>\n",
       "      <td>2018-05-28T00:00:00</td>\n",
       "      <td>Avance Gas Holding</td>\n",
       "      <td>131</td>\n",
       "      <td>[{'Id': 'a81f301b-7a5c-46c8-a12b-a2387fd822e3'...</td>\n",
       "      <td>6.4800</td>\n",
       "      <td>4192124</td>\n",
       "    </tr>\n",
       "    <tr>\n",
       "      <th>1</th>\n",
       "      <td>NO0010199151</td>\n",
       "      <td>2018-05-28T00:00:00</td>\n",
       "      <td>Petroleum Geo-Services</td>\n",
       "      <td>539</td>\n",
       "      <td>[{'Id': 'dd8b0a59-dbea-4a11-8c39-3fe02713ee9b'...</td>\n",
       "      <td>9.6670</td>\n",
       "      <td>32853304</td>\n",
       "    </tr>\n",
       "    <tr>\n",
       "      <th>2</th>\n",
       "      <td>NO0010633951</td>\n",
       "      <td>2018-05-25T00:00:00</td>\n",
       "      <td>B2Holding</td>\n",
       "      <td>1</td>\n",
       "      <td>[{'Id': '51276849-8e03-447f-b208-f85acd430323'...</td>\n",
       "      <td>0.5644</td>\n",
       "      <td>2294573</td>\n",
       "    </tr>\n",
       "    <tr>\n",
       "      <th>3</th>\n",
       "      <td>NO0010808892</td>\n",
       "      <td>2018-05-25T00:00:00</td>\n",
       "      <td>Crayon Group Holding</td>\n",
       "      <td>5</td>\n",
       "      <td>[{'Id': 'a7f161c1-c772-419f-8513-0cfeef77640c'...</td>\n",
       "      <td>0.0000</td>\n",
       "      <td>0</td>\n",
       "    </tr>\n",
       "    <tr>\n",
       "      <th>4</th>\n",
       "      <td>BMG3682E1921</td>\n",
       "      <td>2018-05-25T00:00:00</td>\n",
       "      <td>Frontline</td>\n",
       "      <td>82</td>\n",
       "      <td>[{'Id': '5490a657-7ef5-4f5c-a77c-caf9a14b2681'...</td>\n",
       "      <td>4.5100</td>\n",
       "      <td>7679586</td>\n",
       "    </tr>\n",
       "  </tbody>\n",
       "</table>\n",
       "</div>"
      ],
      "text/plain": [
       "           ISIN           LastChange                    Name  NumPositions  \\\n",
       "0  BMG067231032  2018-05-28T00:00:00      Avance Gas Holding           131   \n",
       "1  NO0010199151  2018-05-28T00:00:00  Petroleum Geo-Services           539   \n",
       "2  NO0010633951  2018-05-25T00:00:00               B2Holding             1   \n",
       "3  NO0010808892  2018-05-25T00:00:00    Crayon Group Holding             5   \n",
       "4  BMG3682E1921  2018-05-25T00:00:00               Frontline            82   \n",
       "\n",
       "                                           Positions  ShortPercent  ShortedSum  \n",
       "0  [{'Id': 'a81f301b-7a5c-46c8-a12b-a2387fd822e3'...        6.4800     4192124  \n",
       "1  [{'Id': 'dd8b0a59-dbea-4a11-8c39-3fe02713ee9b'...        9.6670    32853304  \n",
       "2  [{'Id': '51276849-8e03-447f-b208-f85acd430323'...        0.5644     2294573  \n",
       "3  [{'Id': 'a7f161c1-c772-419f-8513-0cfeef77640c'...        0.0000           0  \n",
       "4  [{'Id': '5490a657-7ef5-4f5c-a77c-caf9a14b2681'...        4.5100     7679586  "
      ]
     },
     "execution_count": 2,
     "metadata": {},
     "output_type": "execute_result"
    }
   ],
   "source": [
    "df = pd.read_json(\"https://ssr.finanstilsynet.no/api/Issuers?extension=json\")\n",
    "\n",
    "df.head()"
   ]
  },
  {
   "cell_type": "code",
   "execution_count": 3,
   "metadata": {
    "scrolled": false
   },
   "outputs": [
    {
     "name": "stdout",
     "output_type": "stream",
     "text": [
      "Crayon Group Holding\n",
      "Two Sigma Investments, LP                         0.00\n",
      "Renaissance Technologies LLC                      0.00\n",
      "Two Sigma Advisers, LP                            0.00\n",
      "Connor, Clark & Lunn Investment Management Ltd    1.30\n",
      "WorldQuant LLC                                    0.00\n",
      "Marshall Wace LLP                                 1.19\n",
      "OXFORD ASSET MANAGEMENT LLP                       0.80\n",
      "QVT Financial LP                                  1.22\n",
      "Total                                             4.51\n",
      "Name: 2018-05-25 00:00:00, dtype: float64\n"
     ]
    },
    {
     "data": {
      "text/plain": [
       "<matplotlib.axes._subplots.AxesSubplot at 0x14b80cf03400>"
      ]
     },
     "execution_count": 3,
     "metadata": {},
     "output_type": "execute_result"
    },
    {
     "data": {
      "image/png": "[encoded data removed]",
      "text/plain": [
       "<matplotlib.figure.Figure at 0x14b80cf45e80>"
      ]
     },
     "metadata": {},
     "output_type": "display_data"
    }
   ],
   "source": [
    "df_test = pd.DataFrame(df['Positions'][4])\n",
    "print(df['Name'][3])\n",
    "idxs = pd.date_range(df_test['ShortingDate'].min(), df_test['ShortingDate'].max())\n",
    "df_values = pd.DataFrame(index=idxs)\n",
    "for idx in reversed(df_test.index):\n",
    "    #print(idx, df_test.loc[idx, 'PositionHolder'], df_test.loc[idx, 'ShortPercent'])\n",
    "    if df_test.loc[idx, 'PositionHolder'] not in df_values.columns:\n",
    "        df_values[df_test.loc[idx, 'PositionHolder']] = np.nan\n",
    "        \n",
    "    #df_values[df_test.loc[idx, 'PositionHolder']]\n",
    "    if df_test.loc[idx, 'Status'] == 2:\n",
    "        df_values.loc[df_test.loc[idx, 'ShortingDate'], df_test.loc[idx, 'PositionHolder']] = df_test.loc[idx, 'ShortPercent']\n",
    "    \n",
    "#df_values['Total'] = df_values.sum(axis=1)\n",
    "#df_values\n",
    "df_fixed = df_values\n",
    "one_day = timedelta(days=1)\n",
    "for coloumn in df_fixed.columns:\n",
    "    for idx, value in df_fixed[coloumn].iteritems():\n",
    "        #print(idx)\n",
    "        #print(df_fixed[coloumn].loc[idx])\n",
    "        if pd.isnull(df_fixed[coloumn].loc[idx]) and idx != df_fixed.index.values[0]:\n",
    "            #print(df_fixed[coloumn].loc[idx])\n",
    "            df_fixed[coloumn].loc[idx] = df_fixed[coloumn].loc[idx-one_day]\n",
    "            \n",
    "\n",
    "df_fixed['Total'] = df_values.sum(axis=1)\n",
    "print(df_fixed.iloc[-1,:])\n",
    "#print(df_fixed.tail())\n",
    "\n",
    "\n",
    "data = df_fixed['Total']\n",
    "\n",
    "\n",
    "\n",
    "data.plot()\n",
    "\n",
    "\n",
    "    \n",
    "\n"
   ]
  },
  {
   "cell_type": "code",
   "execution_count": null,
   "metadata": {
    "collapsed": true
   },
   "outputs": [],
   "source": []
  }
 ],
 "metadata": {
  "kernelspec": {
   "display_name": "Python 3",
   "language": "python",
   "name": "python3"
  },
  "language_info": {
   "codemirror_mode": {
    "name": "ipython",
    "version": 3
   },
   "file_extension": ".py",
   "mimetype": "text/x-python",
   "name": "python",
   "nbconvert_exporter": "python",
   "pygments_lexer": "ipython3",
   "version": "3.6.5"
  }
 },
 "nbformat": 4,
 "nbformat_minor": 2
}
